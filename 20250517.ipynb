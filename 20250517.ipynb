{
  "nbformat": 4,
  "nbformat_minor": 0,
  "metadata": {
    "colab": {
      "provenance": []
    },
    "kernelspec": {
      "name": "python3",
      "display_name": "Python 3"
    },
    "language_info": {
      "name": "python"
    }
  },
  "cells": [
    {
      "cell_type": "code",
      "source": [
        "upper_base = 10\n",
        "bottom = 20\n",
        "height = 5\n",
        "\n",
        "# 公式：台形の面積 ＝ (上底＋下底)×高さ ÷ 2\n",
        "area = (upper_base + bottom) * height / 2\n",
        "print(f\"台形の面積は{area}cm²\")"
      ],
      "metadata": {
        "colab": {
          "base_uri": "https://localhost:8080/"
        },
        "id": "bKey-2nSBpJh",
        "outputId": "30b548dc-45c5-4c07-f240-14a18e41a4d5"
      },
      "execution_count": null,
      "outputs": [
        {
          "output_type": "stream",
          "name": "stdout",
          "text": [
            "台形の面積は75.0cm²\n"
          ]
        }
      ]
    }
  ]
}